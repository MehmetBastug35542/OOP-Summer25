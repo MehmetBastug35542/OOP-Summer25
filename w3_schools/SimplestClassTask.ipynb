{
 "cells": [
  {
   "cell_type": "markdown",
   "id": "2a97953f",
   "metadata": {},
   "source": [
    "# Simplest class "
   ]
  },
  {
   "cell_type": "code",
   "execution_count": 1,
   "id": "ecdb11b6",
   "metadata": {},
   "outputs": [],
   "source": [
    "# we want to have an empty class\n",
    "# but it is not possible to leave empty :(\n",
    "class MyStar:\n",
    "    pass  # but when we put pass then it behaves like an empty class"
   ]
  },
  {
   "cell_type": "markdown",
   "id": "3bcbb2a0",
   "metadata": {},
   "source": [
    "# Simplest object "
   ]
  },
  {
   "cell_type": "code",
   "execution_count": 2,
   "id": "d44f43d8",
   "metadata": {},
   "outputs": [],
   "source": [
    "mystar_obj = MyStar()\n",
    "print(\"Object created:\", mystar_obj)"
   ]
  },
  {
   "cell_type": "markdown",
   "id": "4c21f78a",
   "metadata": {},
   "source": [
    "# Class one method"
   ]
  },
  {
   "cell_type": "code",
   "execution_count": 3,
   "id": "15116f7a",
   "metadata": {},
   "outputs": [],
   "source": [
    "class HelloClass:\n",
    "    def say_hello(self):\n",
    "        print(\"Hello from the method!\")"
   ]
  },
  {
   "cell_type": "markdown",
   "id": "9713c79a",
   "metadata": {},
   "source": [
    "# Using the method"
   ]
  },
  {
   "cell_type": "code",
   "execution_count": 4,
   "id": "bf293db3",
   "metadata": {},
   "outputs": [],
   "source": [
    "hello = HelloClass()\n",
    "hello.say_hello()"
   ]
  }
 ],
 "metadata": {
  "kernelspec": {
   "display_name": "Python 3 (ipykernel)",
   "language": "python",
   "name": "python3"
  }
 },
 "nbformat": 4,
 "nbformat_minor": 5
}
